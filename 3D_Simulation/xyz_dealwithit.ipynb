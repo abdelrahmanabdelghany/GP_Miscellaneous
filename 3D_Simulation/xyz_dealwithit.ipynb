{
 "cells": [
  {
   "cell_type": "code",
   "execution_count": null,
   "metadata": {},
   "outputs": [],
   "source": [
    "import numpy as np\n",
    "import os, sys\n",
    "from tqdm import tqdm\n",
    "import tifffile as tiff\n",
    "import matplotlib.pyplot as plt\n",
    "from shapely.geometry import Point\n",
    "import geopandas as gpd\n",
    "import pandas as pd\n",
    "import imageio"
   ]
  },
  {
   "attachments": {},
   "cell_type": "markdown",
   "metadata": {},
   "source": [
    "## pseudo code for tiff file creation"
   ]
  },
  {
   "cell_type": "code",
   "execution_count": null,
   "metadata": {},
   "outputs": [],
   "source": [
    "# Imports \n",
    "import tiff??? \n",
    "\n",
    "\n",
    "def create_3d_array(x_size, y_size, z_size):\n",
    "    array_3d = [[ ['#' for col in range(x_size)] for col in range(y_size)] for row in range(z_size)]\n",
    "    return array_3d\n",
    "    \n",
    "def load_point_cloud(path_to_xyz_file):\n",
    "    xyz_data = list()\n",
    "    f = open(path_to_xyz_file)\n",
    "    for line in file:\n",
    "        data = line.split(' ')\n",
    "        x = float(data[0])\n",
    "        y = float(data[1])\n",
    "        z = float(data[2])\n",
    "        \n",
    "        point = [x, y, z]\n",
    "        xyz_data.append(point)\n",
    "    f.close()\n",
    "    return xyz_data\n",
    "\n",
    "# Load the point cloud from file \n",
    "point_cloud = load_point_cloud(path_to_xyz_file)\n",
    "\n",
    "\n",
    "# Get the dimensions (bounding box) of the point cloud \n",
    "x_min = 1e32\n",
    "y_min = 1e32\n",
    "z_min = 1e32\n",
    "x_max = -1e32\n",
    "y_max = -1e32\n",
    "z_max = -1e32\n",
    "\n",
    "for point in point_cloud:\n",
    "    if p[0] < x_min: x_min = p[0]\n",
    "    if p[1] < y_min: y_min = p[1]\n",
    "    if p[2] < z_min: z_min = p[2]\n",
    "    \n",
    "    if p[0] > x_max: x_max = p[0]\n",
    "    if p[1] > y_max: y_max = p[1]\n",
    "    if p[2] > z_max: z_max = p[2]\n",
    "\n",
    "# Dimensions in nano-meters \n",
    "width = x_max - x_min\n",
    "height = y_max - y_min\n",
    "depth = z_max - z_min\n",
    "\n",
    "# Define the resolution of the grid \n",
    "resolution = 5\n",
    "\n",
    "grid_width = resolution * width\n",
    "grid_height = resolution * height\n",
    "grid_depth = resolution * depth\n",
    "\n",
    "\n",
    "# Construct a 3D array \n",
    "array_3d = create_3d_array(grid_width, grid_height, grid_depth)\n",
    "\n",
    "# Register the points in the grid \n",
    "for point in point_cloud:\n",
    "\n",
    "     # Get the corresponding voxel for the point cloud coordinates \n",
    "     voxel_x = ?\n",
    "     voxel_y = ?\n",
    "     voxel_z = ?\n",
    "     \n",
    "     array_3d[voxel_x][voxel_y][voxel_z] += 1\n",
    "     \n",
    "\n",
    "# Save the array into a tiff file \n",
    "???"
   ]
  },
  {
   "attachments": {},
   "cell_type": "markdown",
   "metadata": {},
   "source": [
    "---"
   ]
  },
  {
   "cell_type": "code",
   "execution_count": null,
   "metadata": {},
   "outputs": [],
   "source": [
    "path = './single/single_chr10_2000/Chromosome_block0.xyz'\n",
    "xyz = open(path, 'r')\n",
    "xyz"
   ]
  },
  {
   "cell_type": "code",
   "execution_count": null,
   "metadata": {},
   "outputs": [],
   "source": [
    "xyz.readline()"
   ]
  },
  {
   "cell_type": "code",
   "execution_count": null,
   "metadata": {},
   "outputs": [],
   "source": [
    "xyz.readline()"
   ]
  },
  {
   "attachments": {},
   "cell_type": "markdown",
   "metadata": {},
   "source": [
    "### read lines of xyz file"
   ]
  },
  {
   "cell_type": "code",
   "execution_count": null,
   "metadata": {},
   "outputs": [],
   "source": [
    "# PACKAGE AS FUNCTION\n",
    "def read_xyz(path):\n",
    "    xyz = open(path, 'r')\n",
    "\n",
    "    # FIRST LINE IS THE NUMBER OF ATOMS\n",
    "    n_atoms = int(xyz.readline())\n",
    "\n",
    "    # ITERATE THROUGH LINES IN FILE TO GET COORDINATES\n",
    "    coordinates = []\n",
    "    for line in xyz:\n",
    "        x, y, z = line.split()\n",
    "        coordinates.append([float(x), float(y), float(z)])\n",
    "    coordinates = np.array(coordinates)\n",
    "    xyz.close()\n",
    "\n",
    "    return n_atoms, coordinates"
   ]
  },
  {
   "cell_type": "code",
   "execution_count": null,
   "metadata": {},
   "outputs": [],
   "source": [
    "def read_xyz_folder(folder_path):\n",
    "    n_frames = len(os.listdir(folder_path))\n",
    "    frames = os.listdir(folder_path)[1:]\n",
    "\n",
    "    frame_atoms, frame_coordinates = [], []\n",
    "    for frame in tqdm(frames[1:-3]):\n",
    "        path = os.path.join(folder_path, frame)\n",
    "        atoms, coordinates = read_xyz(path)\n",
    "        frame_atoms.append(atoms)\n",
    "        frame_coordinates.append(coordinates)\n",
    "    frame_atoms = np.array(frame_atoms)\n",
    "    frame_coordinates = np.array(frame_coordinates)\n",
    "\n",
    "    print('number of frames = {}'.format(frame_atoms.shape))\n",
    "    print('frame coordinates shape = {}'.format(frame_coordinates.shape))\n",
    "\n",
    "    return frame_atoms, frame_coordinates"
   ]
  },
  {
   "cell_type": "code",
   "execution_count": null,
   "metadata": {},
   "outputs": [],
   "source": [
    "# READ ONE FRAME ONLY\n",
    "atoms, coordinates = read_xyz(path)\n",
    "coordinates, coordinates.shape"
   ]
  },
  {
   "cell_type": "code",
   "execution_count": null,
   "metadata": {},
   "outputs": [],
   "source": [
    "# READ ALL FRAMES STACKED\n",
    "xyz_folder_path = './single/single_op_chr10_xyz'\n",
    "frame_atoms, frame_coordinates = read_xyz_folder(xyz_folder_path)"
   ]
  },
  {
   "cell_type": "code",
   "execution_count": null,
   "metadata": {},
   "outputs": [],
   "source": [
    "# READ ONE FRAME ONLY\n",
    "one_frame = frame_coordinates[0]\n",
    "type(one_frame)"
   ]
  },
  {
   "cell_type": "code",
   "execution_count": null,
   "metadata": {},
   "outputs": [],
   "source": [
    "X = coordinates.T[0]\n",
    "Y = coordinates.T[1]\n",
    "Z = coordinates.T[2]\n",
    "X.shape"
   ]
  },
  {
   "cell_type": "code",
   "execution_count": null,
   "metadata": {},
   "outputs": [],
   "source": [
    "X = coordinates.T[0].reshape(-1,1)\n",
    "Y = coordinates.T[1].reshape(-1,1)\n",
    "Z = coordinates.T[2].reshape(-1,1)\n",
    "X.shape"
   ]
  },
  {
   "attachments": {},
   "cell_type": "markdown",
   "metadata": {},
   "source": [
    "### testing tifffile approach"
   ]
  },
  {
   "cell_type": "code",
   "execution_count": null,
   "metadata": {},
   "outputs": [],
   "source": [
    "tiff.imwrite(\n",
    "    'compressed_xyz.ome.tif', \n",
    "    one_frame, \n",
    "    imagej = True, \n",
    "    resolution = (1./0.22, 1./0.22), \n",
    "    metadata = {'sapcing': 0.72, 'unit': 'um', 'axes': 'XYZ'}, \n",
    "    compression = 'zlib'\n",
    ")"
   ]
  },
  {
   "cell_type": "code",
   "execution_count": null,
   "metadata": {},
   "outputs": [],
   "source": [
    "Data_folder = \"/Input\" #@param {type:\"string\"}\n",
    "Result_folder = \"/Output\" #@param {type:\"string\"}\n",
    "name = os.path.splitext(image)\n",
    "for image in os.listdir(Data_folder):\n",
    "        prediction_stack_16 = imread(Data_folder+\"/\"+image)   \n",
    "        os.chdir(Result_folder)\n",
    "        # tifffile.imwrite(str(name[0])+\"_compressed.tif\", prediction_stack_16, metadata={'axes': 'XYZC'}, compression ='zlib')\n",
    "        tifffile.imwrite(\"_compressed.ome.tif\", prediction_stack_16,imagej=True, resolution=(1./0.22, 1./0.22), metadata={'spacing': 0.72, 'unit': 'um', 'axes': 'ZCYX'}, compression ='zlib')"
   ]
  },
  {
   "attachments": {},
   "cell_type": "markdown",
   "metadata": {},
   "source": [
    "### testing mesh grid approach"
   ]
  },
  {
   "cell_type": "code",
   "execution_count": null,
   "metadata": {},
   "outputs": [],
   "source": [
    "gridX, gridY = np.meshgrid(X, Y)\n",
    "\n",
    "gridZ1 =  np.abs(((gridX - 10) ** 2 + (gridY - 10) ** 2) / 1 ** 2)\n",
    "gridZ2 =  np.abs(((gridX + 10) ** 2 + (gridY + 10) ** 2) / 2.5 ** 2)\n",
    "gridZ =  (gridZ1 - gridZ2)\n",
    "\n",
    "plt.imshow(gridZ)\n",
    "plt.title(\"Temperature\")\n",
    "plt.show()"
   ]
  },
  {
   "cell_type": "code",
   "execution_count": null,
   "metadata": {},
   "outputs": [],
   "source": [
    "from rasterio.transform import Affine\n",
    "import rasterio as rio\n",
    "\n",
    "res = (X[-1] - X[0]) / 240.0\n",
    "transform = Affine.translation(X[0] - res / 2, Y[0] - res / 2) * Affine.scale(res, res)\n",
    "\n",
    "# open in 'write' mode, unpack profile info to dst\n",
    "with rio.open(\n",
    "   \"../temp/new_raster.tif\",\n",
    "   \"w\",\n",
    "   driver = \"GTiff\",         # output file type\n",
    "   height = gridZ.shape[0],      # shape of array\n",
    "   width = gridZ.shape[1],\n",
    "   count = 1,                # number of bands\n",
    "   dtype = gridZ.dtype,          # output datatype\n",
    "   crs = \"+proj=latlong\",    # CRS\n",
    "   transform = transform,    # location and resolution of upper left cell\n",
    ") as dst:\n",
    "   # check for number of bands\n",
    "   if dst.count == 1:\n",
    "       # write single band\n",
    "       dst.write(gridZ, 1)\n",
    "   else:\n",
    "       # write each band individually\n",
    "       for band in range(len(gridZ)):\n",
    "           # write data, band # (starting from 1)\n",
    "           dst.write(gridZ[band], band + 1)"
   ]
  },
  {
   "attachments": {},
   "cell_type": "markdown",
   "metadata": {},
   "source": [
    "### testing geopandas approach"
   ]
  },
  {
   "cell_type": "code",
   "execution_count": null,
   "metadata": {},
   "outputs": [],
   "source": [
    "df = pd.DataFrame(coordinates, columns=['X', 'Y', 'Z'])\n",
    "df.head()"
   ]
  },
  {
   "cell_type": "code",
   "execution_count": null,
   "metadata": {},
   "outputs": [],
   "source": [
    "# Create a Shapely points from the coordinate-tuple list\n",
    "ply_coord = [Point(x, y) for x, y, z in zip(df.X, df.Y, df.Z)]\n",
    "poly = gpd.GeoDataFrame(df, geometry=ply_coord)\n",
    "poly.plot()"
   ]
  },
  {
   "attachments": {},
   "cell_type": "markdown",
   "metadata": {},
   "source": [
    "&uarr; only shows 2D plot  \n",
    "### testing matplotlib approach"
   ]
  },
  {
   "cell_type": "code",
   "execution_count": null,
   "metadata": {},
   "outputs": [],
   "source": [
    "ax = plt.figure(figsize=(15,15)).add_subplot(projection='3d')\n",
    "# ax.set_xlabel('x'); ax.set_ylabel('y'); ax.set_zlabel('z')\n",
    "# ax.contour(X, Y, Z)\n",
    "ax.plot_wireframe(X, Y, Z, rstride=10, cstride=10)\n",
    "\n",
    "plt.show()"
   ]
  },
  {
   "attachments": {},
   "cell_type": "markdown",
   "metadata": {},
   "source": [
    "### MinMax scaling approach"
   ]
  },
  {
   "cell_type": "code",
   "execution_count": null,
   "metadata": {},
   "outputs": [],
   "source": [
    "copy = np.copy(frame_coordinates)\n",
    "print(copy[1995,10,2], frame_coordinates[1995,10,2])"
   ]
  },
  {
   "cell_type": "code",
   "execution_count": null,
   "metadata": {},
   "outputs": [],
   "source": [
    "#Draft\n",
    "\n",
    "\n",
    "no_of_frames = len(copy)\n",
    "\n",
    "for frame in frame_coordinates:\n",
    "    for bead in frame :\n",
    "        for dimension in bead:\n",
    "            print(dimension)"
   ]
  },
  {
   "cell_type": "code",
   "execution_count": null,
   "metadata": {},
   "outputs": [],
   "source": [
    "# Shifitng and scaling data (Binning) \n",
    "\n",
    "from sklearn.preprocessing import MinMaxScaler\n",
    "\n",
    "\n",
    "def scale_data(data):\n",
    "    \n",
    "    scaler = MinMaxScaler(feature_range=(0,1000))\n",
    "    scaler.fit(data)\n",
    "    scaled_data = scaler.transform(data)\n",
    "    scaled_data = np.around(scaled_data)\n",
    "    scaled_data = scaled_data.astype(int)\n",
    "    return scaled_data"
   ]
  },
  {
   "cell_type": "code",
   "execution_count": null,
   "metadata": {},
   "outputs": [],
   "source": [
    "frames = copy\n",
    "frames[:,:,0] = scale_data(copy[:,:,0])\n",
    "frames[:,:,1] = scale_data(copy[:,:,1])\n",
    "frames[:,:,2] = scale_data(copy[:,:,2])"
   ]
  },
  {
   "cell_type": "code",
   "execution_count": null,
   "metadata": {},
   "outputs": [],
   "source": [
    "# Convert a frame to an image\n",
    "frames.shape"
   ]
  },
  {
   "cell_type": "code",
   "execution_count": null,
   "metadata": {},
   "outputs": [],
   "source": [
    "# How many unique values are there in x-axis in a single arbitrary frame? (Out of 1000)\n",
    "\n",
    "len(np.unique(frames[80,:,0]))"
   ]
  },
  {
   "attachments": {},
   "cell_type": "markdown",
   "metadata": {},
   "source": [
    "&uarr; now the coordinates are scaled from 0 to 1000"
   ]
  },
  {
   "attachments": {},
   "cell_type": "markdown",
   "metadata": {},
   "source": [
    "frames"
   ]
  },
  {
   "attachments": {},
   "cell_type": "markdown",
   "metadata": {},
   "source": [
    "### testing cndbTools approach"
   ]
  },
  {
   "cell_type": "code",
   "execution_count": null,
   "metadata": {},
   "outputs": [],
   "source": [
    "from OpenMiChroM.ChromDynamics import MiChroM\n",
    "from OpenMiChroM.CndbTools import cndbTools"
   ]
  },
  {
   "cell_type": "code",
   "execution_count": null,
   "metadata": {},
   "outputs": [],
   "source": [
    "cndbTools = cndbTools()\n",
    "chr10_traj = cndbTools.load('./single/single_chr10_2000/traj_chr10_2000_0.cndb')\n",
    "print(chr10_traj)\n",
    "# EXTRACT LOCI XYZ POSITIONS OVER FRAMES\n",
    "chr10_xyz = cndbTools.xyz(frames=[1,2000,1], beadSelection='all', XYZ=[0,1,2])"
   ]
  },
  {
   "attachments": {},
   "cell_type": "markdown",
   "metadata": {},
   "source": [
    "#### `cnbdTools.xyz()` &rarr; get the selected beads' 3D position from a *cndb* or *ndb* for multiple frames  \n",
    "* write .xyz file\n",
    "* convert to .tiff"
   ]
  },
  {
   "cell_type": "code",
   "execution_count": null,
   "metadata": {},
   "outputs": [],
   "source": [
    "print(chr10_xyz.shape)"
   ]
  },
  {
   "cell_type": "code",
   "execution_count": null,
   "metadata": {},
   "outputs": [],
   "source": [
    "with open('./single/stack_output/xyz_numpy.npy', 'wb') as f:\n",
    "    np.save(f, chr10_xyz)\n",
    "\n",
    "a = []\n",
    "with open('./single/stack_output/xyz_numpy.npy', 'rb') as f:\n",
    "    a = np.load(f)\n",
    "a.shape"
   ]
  },
  {
   "cell_type": "code",
   "execution_count": null,
   "metadata": {},
   "outputs": [],
   "source": [
    "with open('./single/stack_output/xyz_numpy.tiff', 'wb') as f:\n",
    "    np.save(f, chr10_xyz)\n",
    "\n",
    "a = []\n",
    "with open('./single/stack_output/xyz_numpy.tiff', 'rb') as f:\n",
    "    a = np.load(f)\n",
    "a.shape"
   ]
  },
  {
   "attachments": {},
   "cell_type": "markdown",
   "metadata": {},
   "source": [
    "&uarr; tiff file saved using numpy is corrupt or empty"
   ]
  },
  {
   "cell_type": "code",
   "execution_count": null,
   "metadata": {},
   "outputs": [],
   "source": [
    "imageio.imwrite('./single/stack_output/xyz_imageio.tiff', chr10_xyz)\n",
    "a = imageio.imread('./single/stack_output/xyz_imageio.tiff')\n",
    "a.shape"
   ]
  },
  {
   "cell_type": "code",
   "execution_count": null,
   "metadata": {},
   "outputs": [],
   "source": []
  }
 ],
 "metadata": {
  "kernelspec": {
   "display_name": "Python 3",
   "language": "python",
   "name": "python3"
  },
  "language_info": {
   "name": "python",
   "version": "3.9.0"
  },
  "orig_nbformat": 4,
  "vscode": {
   "interpreter": {
    "hash": "8304880a3e767ad58ed1695f5214ef77ebbb8fdf4513a7eb4c0fbb1ff3deb86b"
   }
  }
 },
 "nbformat": 4,
 "nbformat_minor": 2
}
